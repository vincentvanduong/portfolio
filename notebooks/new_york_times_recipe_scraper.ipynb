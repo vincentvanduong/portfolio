{
  "nbformat": 4,
  "nbformat_minor": 0,
  "metadata": {
    "colab": {
      "provenance": []
    },
    "kernelspec": {
      "name": "python3",
      "display_name": "Python 3"
    },
    "language_info": {
      "name": "python"
    }
  },
  "cells": [
    {
      "cell_type": "code",
      "source": [
        "# Imports\n",
        "\n",
        "import requests\n",
        "from bs4 import BeautifulSoup\n",
        "\n",
        "def filter(text):\n",
        "    if not text.isalpha():\n",
        "      return True\n",
        "    elif text[:3] == 'Step':\n",
        "      return True"
      ],
      "metadata": {
        "id": "c3kui2HXiud7"
      },
      "execution_count": null,
      "outputs": []
    },
    {
      "cell_type": "code",
      "source": [
        "# Enter URLs\n",
        "\n",
        "urls = ['https://cooking.nytimes.com/recipes/1023667-turkey-barley-soup?',\n",
        "        'https://cooking.nytimes.com/recipes/1023640-ginger-beer-glazed-butternut-squash-with-gremolata',\n",
        "        'https://cooking.nytimes.com/recipes/1022922-classic-french-75']"
      ],
      "metadata": {
        "id": "H4vyrANasTTo"
      },
      "execution_count": null,
      "outputs": []
    },
    {
      "cell_type": "code",
      "source": [
        "recipes = []\n",
        "\n",
        "for url in urls:\n",
        "\n",
        "    page = requests.get(url)\n",
        "    soup = BeautifulSoup(page.text, 'html.parser')\n",
        "\n",
        "    recipe = []\n",
        "\n",
        "    for list_tag in soup.find_all('li'):\n",
        "        text = list_tag.text\n",
        "        if filter(text):\n",
        "            recipe.append(text)\n",
        "\n",
        "    start, stop = 0, 0\n",
        "\n",
        "    for iter in range(len(recipe)):\n",
        "        if recipe[iter] == 'Copy link':\n",
        "            start = iter+2\n",
        "        elif recipe[iter] == 'All Notes (0)':\n",
        "            stop = iter\n",
        "            break\n",
        "        else:\n",
        "            pass\n",
        "\n",
        "\n",
        "    recipe = recipe[start:stop]\n",
        "\n",
        "    recipes.append(recipe)"
      ],
      "metadata": {
        "id": "AbdWeVwTqWzz"
      },
      "execution_count": null,
      "outputs": []
    },
    {
      "cell_type": "code",
      "source": [
        "for recipe in recipes:\n",
        "  print(recipe)\n",
        "  print('----')"
      ],
      "metadata": {
        "colab": {
          "base_uri": "https://localhost:8080/"
        },
        "id": "OLgUO8byscaY",
        "outputId": "b13c7fc9-d2db-4a25-bfbe-822d68620e95"
      },
      "execution_count": null,
      "outputs": [
        {
          "output_type": "stream",
          "name": "stdout",
          "text": [
            "['3tablespoons unsalted butter or extra-virgin olive oil', '2medium carrots, peeled and sliced into ½-inch coins', '2celery stalks, thinly sliced', '1medium yellow onion, finely diced', '3garlic cloves, minced or finely grated', '2teaspoons finely chopped fresh sage leaves', '2teaspoons fine salt, plus more as needed', '½teaspoon freshly ground black pepper, plus more as needed', '¼teaspoon freshly grated nutmeg', 'Pinch of cayenne', '4thyme sprigs', '4parsley sprigs, plus 1 cup coarsely chopped parsley leaves and tender stems, plus more for garnish', '1bay leaf', '2quarts turkey or chicken stock, preferably homemade', '¾cup pearled barley', '2 to 3cups shredded or chopped leftover turkey', '1lemon, halved', 'Step 1In a large soup pot over medium-high, melt butter, or heat the oil until shimmering. Add carrot, celery and onion, and cook, stirring occasionally, until lightly browned at the edges, 7 to 10 minutes. Stir in garlic and sage, and sauté for a minute, until fragrant. Stir in salt, pepper, nutmeg and cayenne.', 'Step 2Tie the thyme and parsley sprigs and the bay leaf together with a piece of kitchen twine to make a bouquet garni and add to the pot (or just throw the herbs directly into the pot; you’ll just have to fish them out later).', 'Step 3Add stock and barley and bring to a boil. Reduce to a simmer and cook until barley is almost done, about 30 minutes. Add turkey and cook until barley is tender, about 10 to 15 minutes longer.', 'Step 4Remove from heat and remove the bouquet garni or herbs. Squeeze the juice from half a lemon into the soup, and stir in chopped parsley. Taste and add more salt, pepper and lemon juice, if you like. Cut the remaining lemon half into wedges. Garnish soup with more parsley, and serve with lemon wedges.']\n",
            "----\n",
            "['2cups ginger beer', '¾cup vegetable stock, plus more if needed', '1medium (3-pound) butternut squash, peeled, seeded and cut into 1-inch jewel-shaped chunks', '3tablespoons unsalted butter', '1tablespoon honey', '⅛teaspoon ground cloves (optional)', 'Kosher salt (such as Diamond Crystal) and black pepper', '2tablespoons finely chopped fresh parsley leaves', '½teaspoon finely chopped fresh ginger', '¼teaspoon finely chopped fresh garlic', '¼teaspoon finely grated fresh orange zest', 'Step 1Add the ginger beer and stock to a large, deep skillet. Bring to a boil over high.', 'Step 2Add the squash in an even layer. Top with the butter, honey and cloves (if using), and season with ½ teaspoon salt and ¼ teaspoon pepper. Reduce the heat to medium-high and cook, stirring occasionally, until the squash is tender and the sauce thickens to a glaze, about 25 minutes.', 'Step 3While squash simmers, prepare the gremolata: Chop the parsley, ginger, garlic and orange zest together until thoroughly combined.', 'Step 4Once the squash is tender and the sauce has reduced to a glaze, give it a taste and season with salt and pepper. Transfer the squash to a wide, shallow bowl. Sprinkle with the gremolata and serve.']\n",
            "----\n",
            "['1ounce gin or cognac', '½ounce fresh lemon juice', '½ounce simple syrup or ½ ounce sweet bay-peppercorn shrub', '3ounces Champagne or dry sparkling wine', 'Lemon twist', 'Step 1In an ice-filled shaker, combine the gin or cognac, lemon juice and simple syrup or shrub. Cover and shake vigorously until well chilled. Strain into a Champagne or coupe glass and top with Champagne. Finish with a lemon twist.']\n",
            "----\n"
          ]
        }
      ]
    },
    {
      "cell_type": "code",
      "source": [],
      "metadata": {
        "id": "ve5NBkfDBpzF"
      },
      "execution_count": null,
      "outputs": []
    }
  ]
}